{
 "cells": [
  {
   "cell_type": "code",
   "execution_count": 241,
   "metadata": {},
   "outputs": [],
   "source": [
    "from bs4 import BeautifulSoup\n",
    "import requests\n",
    "import pandas as pd\n",
    "import schedule\n",
    "import time"
   ]
  },
  {
   "cell_type": "code",
   "execution_count": 242,
   "metadata": {},
   "outputs": [],
   "source": [
    "def get_title(soup):\n",
    "  try:\n",
    "    title = soup.find(\"span\",attrs={\"id\":\"productTitle\"})\n",
    "    title_value = title.text # content inside span tag\n",
    "    title_string = title_value.strip()\n",
    "\n",
    "  except AttributeError:\n",
    "    title_string = \"\"\n",
    "  \n",
    "  return title_string"
   ]
  },
  {
   "cell_type": "markdown",
   "metadata": {},
   "source": []
  },
  {
   "cell_type": "code",
   "execution_count": 243,
   "metadata": {},
   "outputs": [],
   "source": [
    "def get_price(soup):\n",
    "    try:\n",
    "        price = soup.find(\"span\", attrs={\"class\": \"a-price-whole\"}).text.strip()[:-1]\n",
    "        # remove the comma from the price\n",
    "        price = price.replace(\",\", \"\")\n",
    "    except:\n",
    "        price = \"\"\n",
    "    return price\n"
   ]
  },
  {
   "cell_type": "code",
   "execution_count": 244,
   "metadata": {},
   "outputs": [],
   "source": [
    "def get_discount(soup):\n",
    "    try:\n",
    "        discount = soup.find(\"span\", attrs={\"class\": \"a-size-large a-color-price savingPriceOverride aok-align-center reinventPriceSavingsPercentageMargin savingsPercentage\"}).text.strip()[1:-1]\n",
    "    except:\n",
    "        discount = \"\"\n",
    "    return discount\n"
   ]
  },
  {
   "cell_type": "code",
   "execution_count": 245,
   "metadata": {},
   "outputs": [],
   "source": [
    "def get_rating(soup):\n",
    "  try:\n",
    "        rating = soup.find(\"span\", attrs={\"class\": \"a-icon-alt\"}).text[:3]\n",
    "  except:\n",
    "        rating = \"\"\n",
    "  return rating"
   ]
  },
  {
   "cell_type": "code",
   "execution_count": 246,
   "metadata": {},
   "outputs": [],
   "source": [
    "def get_review(soup):\n",
    "    try:\n",
    "        review_div = soup.find(\"div\", class_=\"a-expander-content reviewText review-text-content a-expander-partial-collapse-content\")\n",
    "        if review_div:\n",
    "            review_span = review_div.find(\"span\")\n",
    "            if review_span:\n",
    "                review = review_span.get_text(strip=True)\n",
    "                return review\n",
    "    except:\n",
    "        return \"\"\n"
   ]
  },
  {
   "cell_type": "code",
   "execution_count": 247,
   "metadata": {},
   "outputs": [],
   "source": [
    "HEADERS = ({'User-agent':'Mozilla/5.0 (Windows NT 10.0; Win64; x64) AppleWebKit/537.36 (KHTML, like Gecko) Chrome/131.0.0.0 Safari/537.36','Accept-Language': 'en-US, en;q=0.5'})\n"
   ]
  },
  {
   "cell_type": "code",
   "execution_count": 248,
   "metadata": {},
   "outputs": [],
   "source": [
    "URLS = {\n",
    "    \"Apple Iphone 16 Plus\" : \"https://www.amazon.in/dp/B0DGJ65N7V\",\n",
    "    \"Apple IPhone 15\": \"https://www.amazon.in/Apple-iPhone-15-128-GB/dp/B0CHX2F5QT?th=1\",\n",
    "    \"Apple Iphone 15 Plus\":\"https://www.amazon.in/Apple-iPhone-15-Plus-128/dp/B0CHX6X2WW\",\n",
    "    \"Apple Iphone 16\": \"https://www.amazon.in/iPhone-16-128-GB-Ultramarine/dp/B0DGJ7TGDR/ref=sr_1_1_sspa?adgrpid=60439252698&dib=eyJ2IjoiMSJ9.wa1Mduoi5z5GFkGrEynB8VggXnizsSnVkNuANSqWzf4I8suqY3-DogLYDbpQtZQfwN9ADxtbwlbRJ3jrAe0eEfIFwVEWrjECSu93OklaGovdEkUDVrXQqdz6vNAICfnK0cnJIvQnIlGWQmUiAiQf4oAsDSXAJsA3Fgi_uMgEKNNdbH9Xg8ISFZCuGy6-f60gLLn0YoZgFs6Gio-htkNQa6GcgUx9vDZhY3-goIz8vz8.qvZZZMB9sHyPjqKRT3nnvPSvxsj9rGBi27LRq4Sr124&dib_tag=se&ext_vrnc=hi&hvadid=590592770130&hvdev=c&hvlocphy=9148909&hvnetw=g&hvqmt=e&hvrand=15429866666308909833&hvtargid=kwd-298343829815&hydadcr=15396_2268336&keywords=iphone%2B16&mcid=a15f4ef45feb367fb8ee189bf63ff053&qid=1737907711&sr=8-1-spons&sp_csd=d2lkZ2V0TmFtZT1zcF9hdGY&th=1\"\n",
    "    }"
   ]
  },
  {
   "cell_type": "code",
   "execution_count": 249,
   "metadata": {},
   "outputs": [],
   "source": [
    "# Scrape Price, Discount, Rating, Review for each product"
   ]
  },
  {
   "cell_type": "code",
   "execution_count": 250,
   "metadata": {},
   "outputs": [],
   "source": [
    "# Dataframe to store the scraped data - Product_name, Price, Discount, Date \n",
    "competitor_data_today = pd.DataFrame(columns=[\"Product_name\", \"Price\", \"Date\"])\n"
   ]
  },
  {
   "cell_type": "code",
   "execution_count": 251,
   "metadata": {},
   "outputs": [],
   "source": [
    "# Create review dataframe\n",
    "# reviews_today = product_name, review\n",
    "reviews_today = pd.DataFrame(columns=[\"Product_name\", \"Review\"])"
   ]
  },
  {
   "cell_type": "code",
   "execution_count": 252,
   "metadata": {},
   "outputs": [],
   "source": [
    "for product, url in URLS.items():\n",
    "    # create a dictionary to store the data\n",
    "    competitor_data = {\"Product_name\": [], \"Price\": [], \"Discount\": [], \"Date\": time.strftime(\"%Y-%m-%d\")}\n",
    "    reviews_data = {\"Product_name\": [], \"Review\": []}\n",
    "    # get the page content\n",
    "    page = requests.get(url, headers=HEADERS)\n",
    "    # create a BeautifulSoup object\n",
    "    soup = BeautifulSoup(page.content, \"html.parser\")\n",
    "    # get the title\n",
    "    title = get_title(soup)\n",
    "    # get the price\n",
    "    price = get_price(soup)\n",
    "    # get the discount\n",
    "    discount = get_discount(soup)\n",
    "    # get the review\n",
    "    review = get_review(soup)\n",
    "    # store the data in the dictionary\n",
    "    # competitor_data[\"Product_name\"].append(title)\n",
    "    competitor_data[\"Product_name\"].append(product)\n",
    "    competitor_data[\"Price\"].append(price)\n",
    "    competitor_data[\"Discount\"].append(discount)\n",
    "\n",
    "    # Add the data to the dataframe\n",
    "    competitor_data_today = pd.concat([competitor_data_today, pd.DataFrame(competitor_data)])\n",
    "\n",
    "    # store the review data in the dictionary\n",
    "    reviews_data[\"Product_name\"].append(product)\n",
    "    reviews_data[\"Review\"].append(review)\n",
    "\n",
    "    # Add the review data to the dataframe\n",
    "    reviews_today = pd.concat([reviews_today, pd.DataFrame(reviews_data)])\n",
    "    \n"
   ]
  },
  {
   "cell_type": "code",
   "execution_count": 253,
   "metadata": {},
   "outputs": [
    {
     "data": {
      "text/html": [
       "<div>\n",
       "<style scoped>\n",
       "    .dataframe tbody tr th:only-of-type {\n",
       "        vertical-align: middle;\n",
       "    }\n",
       "\n",
       "    .dataframe tbody tr th {\n",
       "        vertical-align: top;\n",
       "    }\n",
       "\n",
       "    .dataframe thead th {\n",
       "        text-align: right;\n",
       "    }\n",
       "</style>\n",
       "<table border=\"1\" class=\"dataframe\">\n",
       "  <thead>\n",
       "    <tr style=\"text-align: right;\">\n",
       "      <th></th>\n",
       "      <th>Product_name</th>\n",
       "      <th>Price</th>\n",
       "      <th>Date</th>\n",
       "      <th>Discount</th>\n",
       "    </tr>\n",
       "  </thead>\n",
       "  <tbody>\n",
       "    <tr>\n",
       "      <th>0</th>\n",
       "      <td>Apple Iphone 16 Plus</td>\n",
       "      <td></td>\n",
       "      <td>2025-01-26</td>\n",
       "      <td></td>\n",
       "    </tr>\n",
       "    <tr>\n",
       "      <th>0</th>\n",
       "      <td>Apple IPhone 15</td>\n",
       "      <td></td>\n",
       "      <td>2025-01-26</td>\n",
       "      <td></td>\n",
       "    </tr>\n",
       "    <tr>\n",
       "      <th>0</th>\n",
       "      <td>Apple Iphone 15 Plus</td>\n",
       "      <td></td>\n",
       "      <td>2025-01-26</td>\n",
       "      <td></td>\n",
       "    </tr>\n",
       "    <tr>\n",
       "      <th>0</th>\n",
       "      <td>Apple Iphone 16</td>\n",
       "      <td></td>\n",
       "      <td>2025-01-26</td>\n",
       "      <td></td>\n",
       "    </tr>\n",
       "  </tbody>\n",
       "</table>\n",
       "</div>"
      ],
      "text/plain": [
       "           Product_name Price        Date Discount\n",
       "0  Apple Iphone 16 Plus        2025-01-26         \n",
       "0       Apple IPhone 15        2025-01-26         \n",
       "0  Apple Iphone 15 Plus        2025-01-26         \n",
       "0       Apple Iphone 16        2025-01-26         "
      ]
     },
     "execution_count": 253,
     "metadata": {},
     "output_type": "execute_result"
    }
   ],
   "source": [
    "competitor_data_today"
   ]
  },
  {
   "cell_type": "code",
   "execution_count": 254,
   "metadata": {},
   "outputs": [
    {
     "data": {
      "text/html": [
       "<div>\n",
       "<style scoped>\n",
       "    .dataframe tbody tr th:only-of-type {\n",
       "        vertical-align: middle;\n",
       "    }\n",
       "\n",
       "    .dataframe tbody tr th {\n",
       "        vertical-align: top;\n",
       "    }\n",
       "\n",
       "    .dataframe thead th {\n",
       "        text-align: right;\n",
       "    }\n",
       "</style>\n",
       "<table border=\"1\" class=\"dataframe\">\n",
       "  <thead>\n",
       "    <tr style=\"text-align: right;\">\n",
       "      <th></th>\n",
       "      <th>Product_name</th>\n",
       "      <th>Review</th>\n",
       "    </tr>\n",
       "  </thead>\n",
       "  <tbody>\n",
       "    <tr>\n",
       "      <th>0</th>\n",
       "      <td>Apple Iphone 16 Plus</td>\n",
       "      <td>None</td>\n",
       "    </tr>\n",
       "    <tr>\n",
       "      <th>0</th>\n",
       "      <td>Apple IPhone 15</td>\n",
       "      <td>None</td>\n",
       "    </tr>\n",
       "    <tr>\n",
       "      <th>0</th>\n",
       "      <td>Apple Iphone 15 Plus</td>\n",
       "      <td>None</td>\n",
       "    </tr>\n",
       "    <tr>\n",
       "      <th>0</th>\n",
       "      <td>Apple Iphone 16</td>\n",
       "      <td>Excellent product from Apple</td>\n",
       "    </tr>\n",
       "  </tbody>\n",
       "</table>\n",
       "</div>"
      ],
      "text/plain": [
       "           Product_name                        Review\n",
       "0  Apple Iphone 16 Plus                          None\n",
       "0       Apple IPhone 15                          None\n",
       "0  Apple Iphone 15 Plus                          None\n",
       "0       Apple Iphone 16  Excellent product from Apple"
      ]
     },
     "execution_count": 254,
     "metadata": {},
     "output_type": "execute_result"
    }
   ],
   "source": [
    "reviews_today"
   ]
  },
  {
   "cell_type": "code",
   "execution_count": 255,
   "metadata": {},
   "outputs": [],
   "source": [
    "# Save the data to a CSV file with today's date\n",
    "today = time.strftime(\"%Y-%m-%d\")\n",
    "competitor_data_today.to_csv(f\"competitor_data_{today}.csv\", index=False)\n"
   ]
  },
  {
   "cell_type": "code",
   "execution_count": 256,
   "metadata": {},
   "outputs": [],
   "source": [
    "# Save the review data to a CSV file with today's date\n",
    "reviews_today.to_csv(f\"reviews_data_{today}.csv\", index=False)"
   ]
  }
 ],
 "metadata": {
  "kernelspec": {
   "display_name": "base",
   "language": "python",
   "name": "python3"
  },
  "language_info": {
   "codemirror_mode": {
    "name": "ipython",
    "version": 3
   },
   "file_extension": ".py",
   "mimetype": "text/x-python",
   "name": "python",
   "nbconvert_exporter": "python",
   "pygments_lexer": "ipython3",
   "version": "3.11.4"
  }
 },
 "nbformat": 4,
 "nbformat_minor": 2
}
